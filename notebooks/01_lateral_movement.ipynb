{
 "cells": [
  {
   "cell_type": "markdown",
   "id": "9c23d628",
   "metadata": {},
   "source": [
    "# Scenario 1: Lateral Movement with Impacket psexec\n",
    "\n",
    "### **Objective:** Simulate lateral movement\n",
    "\n",
    "* Blue Team should detect Windows Event ID 4624 (Logon Type=3)\n",
    "* Blue Team should indentify the service creation within Event ID 7045"
   ]
  },
  {
   "cell_type": "markdown",
   "id": "399b1103",
   "metadata": {},
   "source": [
    "#### **Range Details:**\n",
    "\n",
    "* **Source Device:** Kali\n",
    "* **Dest Devices:** MEEREEN (DC03)\n",
    "* **Target User:** daenerys.targaryen"
   ]
  },
  {
   "cell_type": "markdown",
   "id": "9e543d1b",
   "metadata": {},
   "source": [
    "#### **Commands:**"
   ]
  },
  {
   "cell_type": "code",
   "execution_count": null,
   "id": "01fa477c",
   "metadata": {},
   "outputs": [],
   "source": [
    "!impacket-psexec DOMAIN/daenerys.targaryen:BurnThemAll\\!@10.3.10.12"
   ]
  },
  {
   "cell_type": "markdown",
   "id": "6da6d73c",
   "metadata": {},
   "source": [
    "#### **Knowledge Questions:**\n",
    "- Why is it important to identify the **source IP address** during lateral movement investigations?  \n",
    "- Which **network ports** does PsExec rely on for remote connections, and why is this relevant for detection and defense?  "
   ]
  },
  {
   "cell_type": "markdown",
   "id": "fa9303bc",
   "metadata": {},
   "source": [
    "#### **Queries:**"
   ]
  },
  {
   "cell_type": "code",
   "execution_count": null,
   "id": "814cafaf",
   "metadata": {
    "vscode": {
     "languageId": "sql"
    }
   },
   "outputs": [],
   "source": [
    "// 01.0_DB - Hunt for Impacket service creation events\n",
    "************************************************************************************\n",
    "# Hunt for impacket service creation events \n",
    "# Source: Endpoint\n",
    "# OS: Windows\n",
    "# Notes: Review the ImagePath and identify the detected activity. Document the username, user_id (SID) and ServiceName.\n",
    "************************************************************************************\n",
    "\n",
    "SELECT swe.datetime, swe.eventid,\n",
    "JSON_EXTRACT(swe.data, '$.EventData.AccountName') AS AccountName,\n",
    "JSON_EXTRACT(swe.data, '$.EventData.ServiceName') AS ServiceName,\n",
    "JSON_EXTRACT(swe.data, '$.EventData.ImagePath') AS ImagePath,\n",
    "swe.user_id,\n",
    "u.username,\n",
    "u.directory,\n",
    "JSON_EXTRACT(swe.data, '$.EventData.ServiceType') AS ServiceType,\n",
    "JSON_EXTRACT(swe.data, '$.EventData.StartType') AS StartType\n",
    "FROM sophos_windows_events swe\n",
    "JOIN users u ON swe.user_id = u.uuid\n",
    "WHERE swe.source = 'System' AND swe.eventid = 7045\n",
    "AND time > strftime('%s', 'now', '-1 days')"
   ]
  },
  {
   "cell_type": "markdown",
   "id": "4e9be70e",
   "metadata": {},
   "source": [
    "---"
   ]
  },
  {
   "cell_type": "code",
   "execution_count": null,
   "id": "b7a35947",
   "metadata": {
    "vscode": {
     "languageId": "sql"
    }
   },
   "outputs": [],
   "source": []
  }
 ],
 "metadata": {
  "kernelspec": {
   "display_name": "Python 3",
   "language": "python",
   "name": "python3"
  },
  "language_info": {
   "name": "python",
   "version": "3.12.4"
  }
 },
 "nbformat": 4,
 "nbformat_minor": 5
}
