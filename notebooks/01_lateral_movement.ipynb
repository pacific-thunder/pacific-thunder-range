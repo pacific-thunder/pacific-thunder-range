{
 "cells": [
  {
   "cell_type": "markdown",
   "id": "9c23d628",
   "metadata": {},
   "source": [
    "# Scenario 1: Lateral Movement with Impacket psexec\n",
    "\n",
    "**Objective:** Simulate lateral movement\n",
    "\n",
    "* Blue Team should detect Windows Event ID 4624 (Logon Type=3)\n",
    "* Blue Team should indentify the service creation within Event ID 7045\n",
    "\n",
    "---\n",
    "* **Devices:** MEEREEN (DC03)\n",
    "* **User:** daenerys.targaryen"
   ]
  },
  {
   "cell_type": "code",
   "execution_count": null,
   "id": "01fa477c",
   "metadata": {},
   "outputs": [],
   "source": []
  },
  {
   "cell_type": "code",
   "execution_count": null,
   "id": "ecdc96e8",
   "metadata": {},
   "outputs": [],
   "source": []
  },
  {
   "cell_type": "markdown",
   "id": "0f01b466",
   "metadata": {},
   "source": []
  }
 ],
 "metadata": {
  "kernelspec": {
   "display_name": "Python 3",
   "language": "python",
   "name": "python3"
  },
  "language_info": {
   "name": "python",
   "version": "3.12.4"
  }
 },
 "nbformat": 4,
 "nbformat_minor": 5
}
